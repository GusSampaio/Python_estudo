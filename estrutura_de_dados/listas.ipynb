{
  "nbformat": 4,
  "nbformat_minor": 0,
  "metadata": {
    "colab": {
      "name": "listas.ipynb",
      "provenance": []
    },
    "kernelspec": {
      "name": "python3",
      "display_name": "Python 3"
    },
    "language_info": {
      "name": "python"
    }
  },
  "cells": [
    {
      "cell_type": "markdown",
      "source": [
        "<h1> Listas e suas características </h1>\n",
        "\n",
        "Listas são coleções de elementos em uma ordem particular.\n",
        "\n",
        "Anteriormente, quando discutimos Strings, introduzimos o conceito de uma sequência em Python. As listas podem ser consideradas a versão geral de uma sequência em Python. Ao contrário de Strings, as listas são mutáveis, ou seja, os elementos dentro de uma lista podem ser alterados.\n",
        "\n",
        "Se você estiver familiarizado com outra linguagem de programação, você pode traçar paralelos entre matrizes em outras linguagens e listas em Python. Listas em Python no entanto, tendem a ser mais flexíveis do que as matrizes em outras linguagens por dois bons motivos:\n",
        "\n",
        "- Listas não possuem tamanho fixo (o que significa que não precisamos especificar quão grande uma lista será);\n",
        "\n",
        "- Listas não têm restrições de tipo fixo.\n",
        "\n",
        "Não é necessário que os elementos estejam relacionados de alguma forma.\n",
        "\n",
        "Em Python, os brackets '[ ]' representam as listas, sendo os elementos individuais da lista são separados por ' , '."
      ],
      "metadata": {
        "id": "DiRnHh9nMw2-"
      }
    },
    {
      "cell_type": "code",
      "execution_count": null,
      "metadata": {
        "colab": {
          "base_uri": "https://localhost:8080/"
        },
        "id": "6wzfurp5Lofm",
        "outputId": "5744ee2b-5597-4ba3-9e8d-06e3ff03b5d7"
      },
      "outputs": [
        {
          "output_type": "stream",
          "name": "stdout",
          "text": [
            "['trek', 'cannondale', 'redline', 'specialized']\n"
          ]
        }
      ],
      "source": [
        "bicycles = [ 'trek', 'cannondale', 'redline', 'specialized' ] #lista de strings\n",
        "print(bicycles)"
      ]
    },
    {
      "cell_type": "markdown",
      "source": [
        "Para acessar um elemento individual de uma lista, basta representar seu índice.\n",
        "\n",
        "\n"
      ],
      "metadata": {
        "id": "TK5NWgPHOKQn"
      }
    },
    {
      "cell_type": "code",
      "source": [
        "print(bicycles[2])"
      ],
      "metadata": {
        "id": "TBKZlylIOP4D"
      },
      "execution_count": null,
      "outputs": []
    },
    {
      "cell_type": "markdown",
      "source": [
        "Podemos criar listas utilizando a função built-in: list( ), que cria uma lista vazia, ou então referenciando diretamente com brackets."
      ],
      "metadata": {
        "id": "YOI-wGF4PJFU"
      }
    },
    {
      "cell_type": "code",
      "source": [
        "lista_1 = [1, 2, 3] # Lista com elementos\n",
        "lista_2 = list() # Lista vazia\n",
        "lista_3 = [] # Lista vazia"
      ],
      "metadata": {
        "id": "ffyxXCcTPKsp"
      },
      "execution_count": null,
      "outputs": []
    },
    {
      "cell_type": "markdown",
      "source": [
        "<h2> Qual a diferença entre Strings e listas? </h2>\n",
        "As strings são consideradas elementos fixos, sendo impossível trocar uma letra pela outra utilizando por exemplo:"
      ],
      "metadata": {
        "id": "s3BaW-OSPVwO"
      }
    },
    {
      "cell_type": "code",
      "source": [
        "string = \"Banana\"\n",
        "string[0] = 'b' # Teremos aqui um traceback error"
      ],
      "metadata": {
        "id": "tcwm13-cPdLT"
      },
      "execution_count": null,
      "outputs": []
    },
    {
      "cell_type": "markdown",
      "source": [
        "Devemos criar uma cópia da string para realizar a conversão, utilizando seus métodos e funções auxiliares.\n",
        "\n",
        "Já em relação a listas, podemos alterar de maneira muito simples cada um de seus elementos. \n",
        "\n",
        "Para isso referenciamos o seu índice na lista e determinamos qual o seu novo valor."
      ],
      "metadata": {
        "id": "i4VO1NVHPse_"
      }
    },
    {
      "cell_type": "markdown",
      "source": [
        "<h2> Fatiamento de listas </h2>\n",
        "Da mesma forma que realizamos o fatiamento de cadeias de caracteres, podemos realizar o slice para representar elementos de uma lista de um índice até outro."
      ],
      "metadata": {
        "id": "io46VU7JPtoa"
      }
    },
    {
      "cell_type": "code",
      "source": [
        "lista = [\"cat\" , \"bat\" , \"rat\" , \"elephant\"]\n",
        "print(lista[1:3])"
      ],
      "metadata": {
        "id": "A0DpokmSQ2Rr"
      },
      "execution_count": null,
      "outputs": []
    },
    {
      "cell_type": "markdown",
      "source": [
        "<h3> Encontrando o tamanho de listas com .len( ) </h3>\n",
        "Utilizando o método len() das listas, podemos identificar o tamanho da lista, obtendo o número total de elementos."
      ],
      "metadata": {
        "id": "IphQgTGBQ_wG"
      }
    },
    {
      "cell_type": "code",
      "source": [
        "lista = [\"cat\" , \"dog\" , [\"bat\" , 1] , \"moose\" ]\n",
        "print(len(lista))"
      ],
      "metadata": {
        "id": "lNaxXGMNRtWz"
      },
      "execution_count": null,
      "outputs": []
    },
    {
      "cell_type": "markdown",
      "source": [
        "<h3> Concatenação e replicação de listas </h3>\n",
        "Podemos concatenar listas da mesma forma que a concatenação de strings utilizando o operador '+'.\n",
        "\n",
        "Podemos ainda utilizar o operador '*' e um valor inteiro para replicar uma lista."
      ],
      "metadata": {
        "id": "2kXoX6_XSDNo"
      }
    },
    {
      "cell_type": "code",
      "source": [
        "lista_1 = [1, 2 , 3]\n",
        "lista_2 = ['A', 'B', 'C']\n",
        "lista_3 = lista_1 + lista_2\n",
        "print(lista_3)"
      ],
      "metadata": {
        "id": "YC5I_PURSL4w"
      },
      "execution_count": null,
      "outputs": []
    },
    {
      "cell_type": "code",
      "source": [
        "lista = ['X', 'Y', 123]\n",
        "lista = lista * 2\n",
        "print(lista)"
      ],
      "metadata": {
        "id": "OWkOauf_SNt5"
      },
      "execution_count": null,
      "outputs": []
    },
    {
      "cell_type": "markdown",
      "source": [
        "<h2> Adicionando elementos na lista </h2>\n",
        "\n",
        "<h3> Appending </h3>\n",
        "O método mais prático para adicionar elementos na lista, podemos utilizar o método append( ) para acrescentar um elemento ao final da lista."
      ],
      "metadata": {
        "id": "oHCVE0mTSuuW"
      }
    },
    {
      "cell_type": "code",
      "source": [
        "lista = [1, 2, 3, [\"Hello\", \"World\"]]\n",
        "lista.append(\"Done\")\n",
        "print(lista)"
      ],
      "metadata": {
        "id": "U6nD4aWDSzcj"
      },
      "execution_count": null,
      "outputs": []
    },
    {
      "cell_type": "markdown",
      "source": [
        "<h3> Inserting </h3>\n",
        "Podemos ainda utilizar o método insert( ) para inserir um elemento na lista.\n",
        "\n",
        "Para isso, devemos ainda referenciar o índice no qual será inserido o elemento."
      ],
      "metadata": {
        "id": "Zux78R8sS_8I"
      }
    },
    {
      "cell_type": "markdown",
      "source": [
        "<h2> Removendo elementos de uma lista </h2>\n",
        "\n",
        "<h3> Del statement </h3>\n",
        "\n",
        "Se sabemos o índice do elemento na lista, podemos utilizar a função del para remover exclusivamente este elemento."
      ],
      "metadata": {
        "id": "qpn3p0qxTM6z"
      }
    },
    {
      "cell_type": "code",
      "source": [
        "lista = [1, 2 , 3, \"Hello\", \"Jesus\"]\n",
        "del lista[3]\n",
        "print(lista)"
      ],
      "metadata": {
        "id": "tHzmkPaMT2Ah"
      },
      "execution_count": null,
      "outputs": []
    },
    {
      "cell_type": "markdown",
      "source": [
        "<h3> Slice cutting </h3>\n",
        "Usando a função del para deletar não só um elemento, mas sim uma fatia da lista"
      ],
      "metadata": {
        "id": "6IkiCDy_T_Ha"
      }
    },
    {
      "cell_type": "code",
      "source": [
        "lista = list(range(1000))\n",
        "del lista[1:999]\n",
        "print(lista)"
      ],
      "metadata": {
        "id": "FKC-gbjkUCRO"
      },
      "execution_count": null,
      "outputs": []
    },
    {
      "cell_type": "markdown",
      "source": [
        "<h3> Pop </h3>\n",
        "O método pop é utilizado para remover, de maneira geral, o último elemento da lista, sendo ainda possível trabalhar com ele, uma vez que o retorno da função é justamente este elemento."
      ],
      "metadata": {
        "id": "7gDks5deV23Y"
      }
    },
    {
      "cell_type": "code",
      "source": [
        "lista = [1, 2, 3, \"Hello\", \"World\"]\n",
        "elemento_removido = lista.pop()\n",
        "print(lista)\n",
        "print(elemento_removido)"
      ],
      "metadata": {
        "id": "EwvBK9WWWTgY"
      },
      "execution_count": null,
      "outputs": []
    },
    {
      "cell_type": "markdown",
      "source": [
        "O método pop( ) ainda permite enviar como parâmetro o índice em que sera removido o elemento da lista, também retornando este elemento."
      ],
      "metadata": {
        "id": "eDsMLFG2WXZI"
      }
    },
    {
      "cell_type": "code",
      "source": [
        "lista = [1, 2, 3, \"Hello\", \"World\"]\n",
        "elemento_removido = lista.pop(3)\n",
        "print(lista)\n",
        "print(elemento_removido)"
      ],
      "metadata": {
        "id": "nDXLgkTsWbHo"
      },
      "execution_count": null,
      "outputs": []
    },
    {
      "cell_type": "markdown",
      "source": [
        "<h3> Remove </h3>\n",
        "O método remove( ) é capaz de remover um elemento de uma lista a partir do valor, e não do índice deste elemento na lista."
      ],
      "metadata": {
        "id": "mmWrcwx9Wdes"
      }
    },
    {
      "cell_type": "code",
      "source": [
        "lista = [1, 2, 3, \"Hello\", 5, \"World\"]\n",
        "lista.remove(\"Hello\")\n",
        "lista.remove(1)\n",
        "print(lista)"
      ],
      "metadata": {
        "id": "YQYyWWToWsSU"
      },
      "execution_count": null,
      "outputs": []
    },
    {
      "cell_type": "markdown",
      "source": [
        "<h2> Organizando listas </h2> \n",
        "<h3> Sort </h3>\n",
        "\n",
        "O método sort( ) de uma lista realiza uma organização (ordenação) permanente na lista, por padrão alfabético ou numérica crescente.\n",
        "\n",
        "OBS .: Podemos enviar por parâmetro o 'reverse-True' para ordenar reversamente  uma lista."
      ],
      "metadata": {
        "id": "uRBTQUGWWrr6"
      }
    },
    {
      "cell_type": "code",
      "source": [
        "cars = ['bmw', 'audi', 'toyota', 'subaru']\n",
        "cars.sort()\n",
        "print(cars)\n",
        "cars.sort(reverse=True)\n",
        "print(cars)"
      ],
      "metadata": {
        "id": "J73sFRopXKqG"
      },
      "execution_count": null,
      "outputs": []
    },
    {
      "cell_type": "markdown",
      "source": [
        "<h2> Listas em loops </h2>\n",
        "Em um loops podemos realizar a seguinte manipulação com listas: \n"
      ],
      "metadata": {
        "id": "20kqd2EQXVu6"
      }
    },
    {
      "cell_type": "code",
      "source": [
        "lista = [1024, 528, 103, 12, 123] \n",
        "for numero in lista:\n",
        "\tprint(numero)"
      ],
      "metadata": {
        "id": "8Kyw8bocXbQK"
      },
      "execution_count": null,
      "outputs": []
    },
    {
      "cell_type": "markdown",
      "source": [
        "Nesta situação 'numero' será cada elementos em lista, sendo equivalente à lista[i], sendo i um valor iterativo que será contabilizado até o tamanho da lista.\n",
        "\n",
        "Outra forma de realizar a iteração é com o range, podendo iterar pelo índice da lista."
      ],
      "metadata": {
        "id": "nZrkkyqEXdqM"
      }
    },
    {
      "cell_type": "code",
      "source": [
        "for indice in range(len(lista)):\n",
        "\tprint(lista[indice])"
      ],
      "metadata": {
        "id": "WIXDhZ5dXfxH"
      },
      "execution_count": null,
      "outputs": []
    },
    {
      "cell_type": "markdown",
      "source": [
        "A variável iterativa 'indice' irá iterar entre 0 e 1 menos o tamanho desta lista.\n",
        "\n",
        "OBS .: A função range cria uma lista com n elementos, sendo n o valor fornecido como parâmetro."
      ],
      "metadata": {
        "id": "fehsN7EaXiC-"
      }
    },
    {
      "cell_type": "code",
      "source": [
        "l = range(5)\n",
        "for n in l:\n",
        "  print(n)"
      ],
      "metadata": {
        "id": "9rLPRga5XlmW"
      },
      "execution_count": null,
      "outputs": []
    }
  ]
}