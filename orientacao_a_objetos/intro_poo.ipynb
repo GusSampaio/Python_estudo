{
  "nbformat": 4,
  "nbformat_minor": 0,
  "metadata": {
    "colab": {
      "name": "intro_poo.ipynb",
      "provenance": []
    },
    "kernelspec": {
      "name": "python3",
      "display_name": "Python 3"
    },
    "language_info": {
      "name": "python"
    }
  },
  "cells": [
    {
      "cell_type": "markdown",
      "source": [
        "<h1> Agora vamos finalmente juntar a Programação Orientada a Objetos com o Python!\n",
        "\n",
        "Python possui palavras reservadas (keywords) para criarmos Classes e Objetos.\n",
        "\n",
        "* Primeiro, temos a keyword `class` que utilizamos para criar uma classe.\n",
        "\n",
        "* Também temos a keyword `self`, utilizada para guardar a referência ao próprio objeto.\n",
        "\n",
        "Uma observação importante, caso você venha de outra linguagem de programação: Python **NÃO** utiliza a keyword `new` para instanciar novos objetos!\n",
        "\n",
        "Vamos logo para o código! Tudo ficará mais claro."
      ],
      "metadata": {
        "id": "TKZHVsunew51"
      }
    },
    {
      "cell_type": "markdown",
      "source": [
        "Vamos criar uma classe que representa uma entidade do tipo *Pessoa*!\n",
        "\n",
        "Ela deve ter os seguintes campos:\n",
        "\n",
        "* `Nome` como *String*;\n",
        "\n",
        "* `Idade` como *Inteiro*;\n",
        "\n",
        "* `Altura` como *flutuante*.\n",
        "\n",
        "Também deve ter métodos para:\n",
        "\n",
        "* Dizer “Olá”;\n",
        "* Cozinhar;\n",
        "* Andar.\n",
        "\n",
        "Utilizando POO e Python, podemos modelar a entidade Pessoa da seguinte forma:"
      ],
      "metadata": {
        "id": "YslrFbmwffSa"
      }
    },
    {
      "cell_type": "code",
      "execution_count": null,
      "metadata": {
        "id": "7XArchhseDRC"
      },
      "outputs": [],
      "source": [
        "class Pessoa:\n",
        "  def __init__(self, nome: str, idade: int, altura: float):\n",
        "    self.nome = nome\n",
        "    self.idade = idade\n",
        "    self.altura = altura\n",
        "\n",
        "  def dizer_ola(self):\n",
        "    print(f'Olá, meu nome é {self.nome}. Tenho {self.idade} '\n",
        "          f'anos e minha altura é {self.altura}m.')\n",
        "\n",
        "  def cozinhar(self, receita: str):\n",
        "    print(f'Estou cozinhando um(a): {receita}')\n",
        "\n",
        "  def andar(self, distancia: float):\n",
        "    print(f'Saí para andar. Volto quando completar {distancia} metros')\n"
      ]
    },
    {
      "cell_type": "markdown",
      "source": [
        "Agora vamos explicar “tintim por tintim”:\n",
        "\n",
        "* Temos a definição da Classe na primeira linha com `class Pessoa`. Isso diz ao Python que vamos criar a definição de uma nova classe.\n",
        "\n",
        "* Em seguida, temos o método` __init__`. Ele é muito importante e é chamado de Construtor. Ele é chamado ao se instanciar objetos e é nele que geralmente setamos os atributos do objeto.\n",
        "\n",
        "* Em seguida temos a definição dos métodos `dizer_ola()`, `cozinhar()` e `andar()`.\n",
        "\n",
        "* Perceba que no método `dizer_ola()` referenciamos os atributos do próprio objeto com o argumento `self`: `self.nome`, `self.idade` e `self.altura`.\n",
        "\n",
        "Agora veja como podemos instanciar e interagir com objetos dessa Classe:"
      ],
      "metadata": {
        "id": "_P86vKC1gHNs"
      }
    },
    {
      "cell_type": "code",
      "source": [
        "# Instancia um objeto da Classe \"Pessoa\"\n",
        "pessoa = Pessoa(nome='João', idade=25, altura=1.88)\n",
        "\n",
        "# Chama os métodos de \"Pessoa\"\n",
        "pessoa.dizer_ola()\n",
        "pessoa.cozinhar('Spaghetti')\n",
        "pessoa.andar(750.5)"
      ],
      "metadata": {
        "id": "w7gjBkDdgqmO"
      },
      "execution_count": null,
      "outputs": []
    },
    {
      "cell_type": "markdown",
      "source": [
        "Se lembra do **Construtor**?\n",
        "\n",
        "Então, ele entrou em ação na linha 2 do código acima!\n",
        "\n",
        "Quando escrevemos `pessoa = Pessoa()`, chamamos o método `__init__` da classe `Pessoa`, passando os parâmetros `nome`, `idade` e `altura`."
      ],
      "metadata": {
        "id": "anPawGpFgl9A"
      }
    }
  ]
}