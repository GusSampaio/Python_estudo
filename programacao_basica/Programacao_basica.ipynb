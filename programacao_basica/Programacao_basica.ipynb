{
  "nbformat": 4,
  "nbformat_minor": 0,
  "metadata": {
    "colab": {
      "name": "Programacao_basica.ipynb",
      "provenance": [],
      "collapsed_sections": []
    },
    "kernelspec": {
      "name": "python3",
      "display_name": "Python 3"
    },
    "language_info": {
      "name": "python"
    }
  },
  "cells": [
    {
      "cell_type": "markdown",
      "source": [
        "<h2> Primeiros Passos com matemática </h2>\n",
        "Como vimos anteriormente, Python é uma linguagem de programação. Sendo assim, se torna plausível imaginar que esta linguagem consiga realizar contas básica de matemática. Vejamos como isso se aplica na prática.\n",
        "\n",
        "Operações matemáticas básicas envolvem: "
      ],
      "metadata": {
        "id": "FtxmvInGpJb4"
      }
    },
    {
      "cell_type": "code",
      "source": [
        "# Soma\n",
        "4 + 4"
      ],
      "metadata": {
        "id": "VNqeWoDsqZmx"
      },
      "execution_count": null,
      "outputs": []
    },
    {
      "cell_type": "code",
      "source": [
        "# Subtração\n",
        "4 - 3"
      ],
      "metadata": {
        "id": "iLbWqm0OrBCl"
      },
      "execution_count": null,
      "outputs": []
    },
    {
      "cell_type": "code",
      "source": [
        "# Multiplicação\n",
        "3 * 10"
      ],
      "metadata": {
        "id": "mP1RjpjQrLTM"
      },
      "execution_count": null,
      "outputs": []
    },
    {
      "cell_type": "code",
      "source": [
        "# Divisão\n",
        "3 / 2"
      ],
      "metadata": {
        "id": "EVOEoMw3rQbf"
      },
      "execution_count": null,
      "outputs": []
    },
    {
      "cell_type": "code",
      "source": [
        "# Divisão inteira\n",
        "3 // 2"
      ],
      "metadata": {
        "id": "aNWjigk0t31T"
      },
      "execution_count": null,
      "outputs": []
    },
    {
      "cell_type": "code",
      "source": [
        "# Potência\n",
        "4 ** 2"
      ],
      "metadata": {
        "id": "6P1jUAeVrTAy"
      },
      "execution_count": null,
      "outputs": []
    },
    {
      "cell_type": "code",
      "source": [
        "# Módulo (resto da divisão)\n",
        "10 % 3"
      ],
      "metadata": {
        "id": "-HmgeWMbrXL6"
      },
      "execution_count": null,
      "outputs": []
    }
  ]
}