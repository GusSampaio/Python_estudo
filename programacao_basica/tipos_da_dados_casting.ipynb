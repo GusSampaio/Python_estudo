{
  "nbformat": 4,
  "nbformat_minor": 0,
  "metadata": {
    "colab": {
      "name": "tipos_da_dados_casting.ipynb",
      "provenance": []
    },
    "kernelspec": {
      "name": "python3",
      "display_name": "Python 3"
    },
    "language_info": {
      "name": "python"
    }
  },
  "cells": [
    {
      "cell_type": "markdown",
      "source": [
        "<h2>Os dados possuem tipos.</h2>\n",
        "\n",
        "Um tipo de dado nada mais que é algo do mundo real que pode ser representado computacionalmente. Por exemplo, os números que pertencem ao conjunto dos números inteiros, os números que pertencem ao conjunto dos números reais, letras, caracteres especiais, acentuação, pontuação, palavras, etc.\n",
        "\n",
        "As linguagens de programação implementam formas de representar e manipular esses dados, que podem ser classificados em dois grandes grupos: os tipos de dados primitivos e os tipos de dados não primitivos. Os tipos de dados primitivos são os tipos básicos que devem ser implementados por todas as linguagens de programação, como os números reais, inteiros, booleanos, caracteres e strings. Os tipos de dados não primitivos, normalmente são os vetores, matrizes, classes, enumerações, etc., que costumam ser estruturas de dados mais complexas do que os tipos de dados primitivos e serão vistos aqui posteriormente.\n",
        "\n",
        "Os tipos de dados em Python possuem uma nomenclatura especifica.\n",
        "\n",
        "* Números inteiros: int\n",
        "* Números reais: float\n",
        "* Strings: str \n",
        "\n",
        "Obs .: Strings nada mais são do que conuntos de caracteres."
      ],
      "metadata": {
        "id": "IpptvLR1shDz"
      }
    },
    {
      "cell_type": "code",
      "source": [
        "13424             # Isso é um número inteiro (int)\n",
        "\n",
        "2.6587            # Isso é um número real (float)\n",
        " \n",
        "'Gustavo Sampaio' # Isso é uma string (str)"
      ],
      "metadata": {
        "id": "L7HXys2Ds0zE"
      },
      "execution_count": null,
      "outputs": []
    },
    {
      "cell_type": "markdown",
      "source": [
        "<h2> Mas, e se eu quisesse guardar um destes valores? </h2>\n",
        "Para descobrir tente executar a célula abaixo.\n",
        "Lembre-se de pressionar a tecla enter ao terminar de escrever.\n",
        "\n",
        "Obs .: É normal a execução da célula demorar uns segundinhos a mais da primeira vez."
      ],
      "metadata": {
        "id": "NS1XPfE6vtVK"
      }
    },
    {
      "cell_type": "code",
      "source": [
        "mensagem = input(\"Qual é a mensagem? \")\n",
        "print(\"A mensagem é\", mensagem)"
      ],
      "metadata": {
        "id": "7prAVBd5vzT-"
      },
      "execution_count": null,
      "outputs": []
    },
    {
      "cell_type": "markdown",
      "source": [
        "Acima podemos observar o uso de duas funções 'input' e 'print'.\n",
        "\n",
        "A função <strong>input()</strong> serve para receber algum dado vindo normalmente do usuário.\n",
        "A função <strong>print()</strong> imprime algo na tela.\n",
        "\n",
        "No exemplo acima, o dado vindo do usuário é vem como string e vai parar dentro de mensagem, isto é, o valor de 'mensagem' se torna o que o usuário escreveu (mesmo que não seja um texto).\n",
        "\n",
        "Para saber o tipo de dado que você estará tratando pode usar, por exemplo, a função <strong>type()</strong>.\n"
      ],
      "metadata": {
        "id": "8PRIkbCvwZ1O"
      }
    },
    {
      "cell_type": "code",
      "source": [
        "mensagem = 'Eu sou uma string'\n",
        "type(mensagem)"
      ],
      "metadata": {
        "id": "tRUXpDd9wgr0"
      },
      "execution_count": null,
      "outputs": []
    },
    {
      "cell_type": "markdown",
      "source": [
        "O casting é feito para transformar uma variável de um tipo em outro."
      ],
      "metadata": {
        "id": "uaZDDLFxyUZU"
      }
    },
    {
      "cell_type": "code",
      "source": [
        "string = 123\n",
        "print(type(string)) # Aqui ainda não é uma string\n",
        "string = str(string) # Agora sim é \n",
        "print(type(string))\n",
        "\n"
      ],
      "metadata": {
        "id": "HzqRiFuYyWIw"
      },
      "execution_count": null,
      "outputs": []
    },
    {
      "cell_type": "markdown",
      "source": [
        "<h2> abs(), round() e pow() </h2>\n",
        "A função abs() retorna o valor absoluto (positivo)."
      ],
      "metadata": {
        "id": "pR-fonrs1kmh"
      }
    },
    {
      "cell_type": "code",
      "source": [
        "abs(-8)\n",
        "\n",
        "print(abs(8))"
      ],
      "metadata": {
        "id": "quNKDa9_1qwi"
      },
      "execution_count": null,
      "outputs": []
    },
    {
      "cell_type": "markdown",
      "source": [
        "A função round() retorna o valor com arredondamento. O número de casas decimais pode ser especificado no segundo parâmetro, caso ele não existe o padrão é não haver casas decimais."
      ],
      "metadata": {
        "id": "DXUeCTFv2OK-"
      }
    },
    {
      "cell_type": "code",
      "source": [
        "print(round(22.4)) \n",
        "\n",
        "print(round(22.678495574, 4)) # 4 casas decimais"
      ],
      "metadata": {
        "colab": {
          "base_uri": "https://localhost:8080/"
        },
        "id": "ndAp3Noa2UGt",
        "outputId": "51d54190-e0a1-4d8a-8e30-35cca7863782"
      },
      "execution_count": null,
      "outputs": [
        {
          "output_type": "stream",
          "name": "stdout",
          "text": [
            "22\n"
          ]
        },
        {
          "output_type": "execute_result",
          "data": {
            "text/plain": [
              "22.6785"
            ]
          },
          "metadata": {},
          "execution_count": 21
        }
      ]
    },
    {
      "cell_type": "markdown",
      "source": [
        "A função pow() retorna o valor da potência do parâmetro. A potência deve ser especificada no segundo parâmetro."
      ],
      "metadata": {
        "id": "CcR24TkB2grt"
      }
    },
    {
      "cell_type": "code",
      "source": [
        "print(pow(2, 2)) \n",
        "\n",
        "print(pow(5, 3)) "
      ],
      "metadata": {
        "id": "-_k37js52jC8"
      },
      "execution_count": null,
      "outputs": []
    },
    {
      "cell_type": "markdown",
      "source": [
        "<h1> Variáveis e operadores </h1>\n",
        "A variável nada mais é do que um espaço na memória que é armazenado para receber algum tipo de dado (exp: float, int, str, etc...).\n",
        "\n",
        "Em python podemos usar duas maneiras de se imprimir (mostrar na tela) o valor de uma variável. Um usando a função print() e outro somente escrevendo o nome dela."
      ],
      "metadata": {
        "id": "3GmZrNfhw1iA"
      }
    },
    {
      "cell_type": "code",
      "source": [
        "var_teste = 1 # Atribuindo o valor 1 à variável var_teste"
      ],
      "metadata": {
        "id": "C2fNuA7AxAbW"
      },
      "execution_count": null,
      "outputs": []
    },
    {
      "cell_type": "code",
      "source": [
        "var_teste"
      ],
      "metadata": {
        "id": "LxF2X-T8xNP5"
      },
      "execution_count": null,
      "outputs": []
    },
    {
      "cell_type": "code",
      "source": [
        "print(var_teste)"
      ],
      "metadata": {
        "id": "90rGcIqRxOsb"
      },
      "execution_count": null,
      "outputs": []
    },
    {
      "cell_type": "markdown",
      "source": [
        "Mas para isso precisamos inicializar essa variável. O que seria isso?\n",
        "\n",
        "Inicializar uma variável é o ato de instanciar na memória espaço para que ela exista e possa ser mencionada no código, em outras palavras mostrar para o computador que eu quero chamar um dado valor de ‘batata’, por exemplo.\n",
        "\n",
        "A inicialização em Python se dá ao passo que atribuímos valor a aquilo desta maneira:\n",
        "```\n",
        "isso_e_uma_variavel = valor_da_variavel\n",
        "```\n",
        "Porém, existem regras para a criação de uma variável. Quais são elas?"
      ],
      "metadata": {
        "id": "dyJMW73oxUSb"
      }
    },
    {
      "cell_type": "markdown",
      "source": [
        "<h2> Regras para a criação de variáveis </h2>\n",
        "\n",
        "\n",
        "*   Nomes de variáveis podem conter apenas letras, números e underscores/underlines. Não podem iniciar com número mas podem começar com uma letra ou um underscore.\n",
        "*   Espaços não são permitidos em nomes de variáveis, mas underscores podem ser usados para separar palavras em nomes de variáveis (como feito acima).\n",
        "*   Nomes de variáveis devem ser preferencialmente pequenos e descritivos, o que facilita a programação e a hora de revisar o código, quem quer que o faça.\n",
        "*  Não use palavras que Python reservou para uso próprio pela linguagem.\n",
        "    *  Os criadores da linguagem reservaram algumas palavras que possuem funções específicas de uso, segue uma lista abaixo:\n",
        "       * False - class - finally - is - return - None - continue - for - lambda - try - True - def - from - nonlocal - while - and - del - global - not - with - as - elif - if - or - yield - assert - else - import - pass - break - except - in - raise\n",
        "       \n",
        "       Segue um exemplo"
      ],
      "metadata": {
        "id": "ZbygCu7Vxltm"
      }
    },
    {
      "cell_type": "code",
      "source": [
        "# Não podemos usar palavras reservadas como nome de variável\n",
        "break = 1"
      ],
      "metadata": {
        "id": "TYK6irOZyGA-"
      },
      "execution_count": null,
      "outputs": []
    },
    {
      "cell_type": "markdown",
      "source": [
        "Outra questão a ser analisada é: Python é ‘case Sensitive’. Isto é, se declaramos uma variável chamada “pessoa1” e outra chamada “Pessoa1” elas possuirão valores diferentes pela presença de uma das letras serem diferentes.\n",
        "\n",
        "Python também permite a declaração múltipla de variáveis, sendo assim, instanciando diversos valores ao mesmo tempo, observe:"
      ],
      "metadata": {
        "id": "5pfimfHZyXM2"
      }
    },
    {
      "cell_type": "code",
      "source": [
        "pessoa1, pessoa2 = 'Maria', 'José'"
      ],
      "metadata": {
        "id": "6gFeHPl4ybQW"
      },
      "execution_count": null,
      "outputs": []
    },
    {
      "cell_type": "code",
      "source": [
        "pessoa1"
      ],
      "metadata": {
        "id": "UeIxq9LJyiZC"
      },
      "execution_count": null,
      "outputs": []
    },
    {
      "cell_type": "code",
      "source": [
        "pessoa2"
      ],
      "metadata": {
        "id": "YJhJcQTxyjLs"
      },
      "execution_count": null,
      "outputs": []
    },
    {
      "cell_type": "code",
      "source": [
        "Pessoa1 #resultará num erro por causa do case sensitive "
      ],
      "metadata": {
        "id": "e0QpcnfaymDf"
      },
      "execution_count": null,
      "outputs": []
    },
    {
      "cell_type": "markdown",
      "source": [
        "Podemos juntar duas strings em uma ? Claro, observe:"
      ],
      "metadata": {
        "id": "0G1I2KMny2LE"
      }
    },
    {
      "cell_type": "code",
      "source": [
        "nome = 'Gustavo'\n",
        "sobrenome = 'Sampaio'\n",
        "\n",
        "nome_completo = nome + \" \" + sobrenome"
      ],
      "metadata": {
        "id": "cam8H1qJy4Ee"
      },
      "execution_count": null,
      "outputs": []
    },
    {
      "cell_type": "code",
      "source": [
        "nome_completo"
      ],
      "metadata": {
        "id": "pNCnJ6IezH7a"
      },
      "execution_count": null,
      "outputs": []
    }
  ]
}