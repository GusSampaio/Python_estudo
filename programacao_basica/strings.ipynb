{
  "nbformat": 4,
  "nbformat_minor": 0,
  "metadata": {
    "colab": {
      "name": "strings.ipynb",
      "provenance": [],
      "collapsed_sections": []
    },
    "kernelspec": {
      "name": "python3",
      "display_name": "Python 3"
    },
    "language_info": {
      "name": "python"
    }
  },
  "cells": [
    {
      "cell_type": "markdown",
      "source": [
        "<h1> Strings </h1>\n",
        "As strings são basicamente cadeias de caracteres.\n",
        "\n",
        "Em Python podemos fazer uso tanto de aspas simples quanto aspas duplas para a criação de strings. Note:"
      ],
      "metadata": {
        "id": "tfHIB_TEai8K"
      }
    },
    {
      "cell_type": "code",
      "execution_count": null,
      "metadata": {
        "id": "rePMwbovZlHV"
      },
      "outputs": [],
      "source": [
        "# Uma única palavra\n",
        "'Oi'"
      ]
    },
    {
      "cell_type": "code",
      "source": [
        "# Uma frase\n",
        "'Criando uam strign em Python'"
      ],
      "metadata": {
        "id": "j--EpoHtbFyJ"
      },
      "execution_count": null,
      "outputs": []
    },
    {
      "cell_type": "code",
      "source": [
        "# Usando aspas duplas\n",
        "\"O uso de aspas duplas é semelhante\""
      ],
      "metadata": {
        "id": "bsRSdzKPbLfo"
      },
      "execution_count": null,
      "outputs": []
    },
    {
      "cell_type": "code",
      "source": [
        "# Você pode combinar aspas duplas e simples numa mesma string\n",
        "\"Testando strings em 'Python'\""
      ],
      "metadata": {
        "id": "kgolVXE6bTCo"
      },
      "execution_count": null,
      "outputs": []
    },
    {
      "cell_type": "markdown",
      "source": [
        "A impressão de strings também é bem fácil."
      ],
      "metadata": {
        "id": "ZhitV0ZKbd4c"
      }
    },
    {
      "cell_type": "code",
      "source": [
        "print('Testando strings em Python')"
      ],
      "metadata": {
        "id": "J3_U2VXMbdbC"
      },
      "execution_count": null,
      "outputs": []
    },
    {
      "cell_type": "code",
      "source": [
        "print('Testando\\n Strings\\n em\\n Python\\n')"
      ],
      "metadata": {
        "id": "-DoYWT81blqo"
      },
      "execution_count": null,
      "outputs": []
    },
    {
      "cell_type": "markdown",
      "source": [
        "Note que ‘\\n’ também é um caractere, em computação comumente conhecido como quebra de linha."
      ],
      "metadata": {
        "id": "VVaVISPMbsKn"
      }
    },
    {
      "cell_type": "markdown",
      "source": [
        "A atribuição de valores a uma string também é relativamente fácil, e o endereço do primeiro caractere sempre é o 0. O que isso quer dizer?\n",
        "\n",
        "Isso significa que se tivermos uma string igual a ‘Data Science Academy’ o endereço 0 é a letra ‘D’ (pois 0 é o primeiro endereço numa string)."
      ],
      "metadata": {
        "id": "QPyaQKfabupJ"
      }
    },
    {
      "cell_type": "code",
      "source": [
        "# Atribuindo uma string\n",
        "s = ' Recebendo string'"
      ],
      "metadata": {
        "id": "XqeewUdpcDs2"
      },
      "execution_count": null,
      "outputs": []
    },
    {
      "cell_type": "code",
      "source": [
        "print(s)"
      ],
      "metadata": {
        "id": "GBIZEOM1cKYE"
      },
      "execution_count": null,
      "outputs": []
    },
    {
      "cell_type": "code",
      "source": [
        "# Primeiro elemento da string\n",
        "s[0]"
      ],
      "metadata": {
        "id": "RtzsSIXjcMIw"
      },
      "execution_count": null,
      "outputs": []
    },
    {
      "cell_type": "code",
      "source": [
        "s[1]"
      ],
      "metadata": {
        "id": "-Ey0bPGEcRzd"
      },
      "execution_count": null,
      "outputs": []
    },
    {
      "cell_type": "code",
      "source": [
        "s[2]"
      ],
      "metadata": {
        "id": "cqNezmaacSwR"
      },
      "execution_count": null,
      "outputs": []
    },
    {
      "cell_type": "markdown",
      "source": [
        ""
      ],
      "metadata": {
        "id": "UzVaWXwTdKHG"
      }
    },
    {
      "cell_type": "markdown",
      "source": [
        "<h2> Concatenação </h2>\n",
        "Concatenação é um termo usado em computação para designar a operação de unir o conteúdo de duas strings. "
      ],
      "metadata": {
        "id": "St18CBsbc7vH"
      }
    },
    {
      "cell_type": "code",
      "source": [
        "string_1 = \"Hello\"\n",
        "string_2 = \"World\"\n",
        "message = string_1 + ' ' + string_2\n",
        "print(message)"
      ],
      "metadata": {
        "id": "xSK556N1dEZx"
      },
      "execution_count": null,
      "outputs": []
    },
    {
      "cell_type": "markdown",
      "source": [
        "<h2> Método len() </h2>\n",
        "O método (função interior a classe strings, e presente para todos os objetos desta classe) len() retorna o inteiro correspondente ao tamanho da string."
      ],
      "metadata": {
        "id": "x-VcnpfydaOL"
      }
    },
    {
      "cell_type": "code",
      "source": [
        "string = \"Hello, World!\"\n",
        "size = string.len(string)\n",
        "print(size)"
      ],
      "metadata": {
        "id": "7H9FJY92dq53"
      },
      "execution_count": null,
      "outputs": []
    },
    {
      "cell_type": "markdown",
      "source": [
        "<h2> Acessando caracteres </h2>\n",
        "Sendo uma cadeia de caracteres, para acessar individualmente um caractere dessa string devemos referenciar seu índice."
      ],
      "metadata": {
        "id": "LJmwmj93dtep"
      }
    },
    {
      "cell_type": "code",
      "source": [
        "string = \"banana\"\n",
        "for letter in string:\n",
        "\tprint(letter)\n"
      ],
      "metadata": {
        "id": "FgiTsKV9d1OP"
      },
      "execution_count": null,
      "outputs": []
    },
    {
      "cell_type": "markdown",
      "source": [
        "<h2> Slicing </h2> \n",
        "O slicing é uma é uma técnica baseada em cortar informações de um vetor.\n",
        "\n",
        "O slicing em Python pode ocorrer, por exemplo, das seguintes maneiras:"
      ],
      "metadata": {
        "id": "B8Gvvqeqd9bN"
      }
    },
    {
      "cell_type": "code",
      "source": [
        "s = 'Bom dia meu bem'"
      ],
      "metadata": {
        "id": "gTfeKh4WenDt"
      },
      "execution_count": null,
      "outputs": []
    },
    {
      "cell_type": "code",
      "source": [
        "# Retorna todos os elementos da string, começando pela posição até o fim da string\n",
        "s[1:]"
      ],
      "metadata": {
        "id": "yWrI5-CQerJe"
      },
      "execution_count": null,
      "outputs": []
    },
    {
      "cell_type": "code",
      "source": [
        "# Retorna tudo até a posição 4\n",
        "s[:4]"
      ],
      "metadata": {
        "id": "zQU26LDsewDr"
      },
      "execution_count": null,
      "outputs": []
    },
    {
      "cell_type": "code",
      "source": [
        "s[:]"
      ],
      "metadata": {
        "id": "PzamwLcHezIv"
      },
      "execution_count": null,
      "outputs": []
    },
    {
      "cell_type": "code",
      "source": [
        "# Lendo de trás para frente\n",
        "s[-1]"
      ],
      "metadata": {
        "id": "37uw6JPie1QF",
        "colab": {
          "base_uri": "https://localhost:8080/",
          "height": 36
        },
        "outputId": "fa6b83a0-eac3-49dd-b828-b468d6f5a283"
      },
      "execution_count": null,
      "outputs": [
        {
          "output_type": "execute_result",
          "data": {
            "text/plain": [
              "'m'"
            ],
            "application/vnd.google.colaboratory.intrinsic+json": {
              "type": "string"
            }
          },
          "metadata": {},
          "execution_count": 2
        }
      ]
    },
    {
      "cell_type": "code",
      "source": [
        "# Retornar tudo, exceto a última letra\n",
        "s[:-1]"
      ],
      "metadata": {
        "id": "1ZdAdp2Ie3kF",
        "colab": {
          "base_uri": "https://localhost:8080/",
          "height": 36
        },
        "outputId": "a6dc6f7a-868b-478c-d762-e2d98c2151db"
      },
      "execution_count": null,
      "outputs": [
        {
          "output_type": "execute_result",
          "data": {
            "text/plain": [
              "'Bom dia meu be'"
            ],
            "application/vnd.google.colaboratory.intrinsic+json": {
              "type": "string"
            }
          },
          "metadata": {},
          "execution_count": 4
        }
      ]
    },
    {
      "cell_type": "markdown",
      "source": [
        "<h2> Propriedades das strings </h2>"
      ],
      "metadata": {
        "id": "xZHEBEab--x-"
      }
    },
    {
      "cell_type": "code",
      "source": [
        "# Concatenando strings\n",
        "s += ', como você dormiu?'\n",
        "s"
      ],
      "metadata": {
        "id": "iIqUoOgle6qa",
        "colab": {
          "base_uri": "https://localhost:8080/",
          "height": 36
        },
        "outputId": "be5511ba-1643-4753-cdcc-38812affab37"
      },
      "execution_count": null,
      "outputs": [
        {
          "output_type": "execute_result",
          "data": {
            "text/plain": [
              "'Bom dia meu bem, como você dormiu?'"
            ],
            "application/vnd.google.colaboratory.intrinsic+json": {
              "type": "string"
            }
          },
          "metadata": {},
          "execution_count": 10
        }
      ]
    },
    {
      "cell_type": "code",
      "source": [
        "# Podemos usar o símbolo de multiplicação para criar repetição\n",
        "letra = 'w'\n",
        "letra = letra * 3\n",
        "letra"
      ],
      "metadata": {
        "colab": {
          "base_uri": "https://localhost:8080/",
          "height": 36
        },
        "id": "L8Me25UW-kkO",
        "outputId": "4202fe9b-d062-41ed-bf2b-9eb990a2a69d"
      },
      "execution_count": null,
      "outputs": [
        {
          "output_type": "execute_result",
          "data": {
            "text/plain": [
              "'www'"
            ],
            "application/vnd.google.colaboratory.intrinsic+json": {
              "type": "string"
            }
          },
          "metadata": {},
          "execution_count": 13
        }
      ]
    },
    {
      "cell_type": "markdown",
      "source": [
        "<h2> Funções built-in de strings </h2>"
      ],
      "metadata": {
        "id": "To1ue7gc_CMk"
      }
    },
    {
      "cell_type": "code",
      "source": [
        "s"
      ],
      "metadata": {
        "id": "6JxFPgBC_G0k"
      },
      "execution_count": null,
      "outputs": []
    },
    {
      "cell_type": "code",
      "source": [
        "# Upper case\n",
        "s.upper()"
      ],
      "metadata": {
        "id": "4IiB__ta_Ikj"
      },
      "execution_count": null,
      "outputs": []
    },
    {
      "cell_type": "code",
      "source": [
        "# Lower case\n",
        "s.lower()"
      ],
      "metadata": {
        "id": "M4hoq0HX_M0i"
      },
      "execution_count": null,
      "outputs": []
    },
    {
      "cell_type": "code",
      "source": [
        "# Dividir uma string por espaços em branco (padrão)\n",
        "s.plit()"
      ],
      "metadata": {
        "id": "uNUU4Ny3_TCb"
      },
      "execution_count": null,
      "outputs": []
    },
    {
      "cell_type": "code",
      "source": [
        "# Dividir uma string por um elemento específico\n",
        "s.split('y')"
      ],
      "metadata": {
        "id": "E9aizmiW_agU"
      },
      "execution_count": null,
      "outputs": []
    },
    {
      "cell_type": "markdown",
      "source": [
        "Temos outras funções tais como \n",
        "- count(): conta quantos caracteres existem\n",
        "- find(): retorna a posição do argumento\n",
        "- muitas mais... tente testar você mesmo"
      ],
      "metadata": {
        "id": "I7uOQZ3O_pGz"
      }
    },
    {
      "cell_type": "markdown",
      "source": [
        "<h2> Comparando strings </h2>\n"
      ],
      "metadata": {
        "id": "PTu5KpON_9EE"
      }
    },
    {
      "cell_type": "code",
      "source": [
        "print(\"Python\" == \"R\")"
      ],
      "metadata": {
        "id": "LKWlWi9AAAvW"
      },
      "execution_count": null,
      "outputs": []
    },
    {
      "cell_type": "code",
      "source": [
        "print(\"Python\" == \"Python\")"
      ],
      "metadata": {
        "id": "JTsfSIxtAF6Z"
      },
      "execution_count": null,
      "outputs": []
    },
    {
      "cell_type": "code",
      "source": [
        "# Verificando se uma string contém alguma palavra\n",
        "string = \"This contains a word\"\n",
        "if \"word\" in string:\n",
        "    print(\"Found\")\n",
        "else:\n",
        "    print(\"Not Found\")"
      ],
      "metadata": {
        "id": "ZOEJ_OTNALtN"
      },
      "execution_count": null,
      "outputs": []
    }
  ]
}