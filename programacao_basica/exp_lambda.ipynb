{
  "nbformat": 4,
  "nbformat_minor": 0,
  "metadata": {
    "colab": {
      "name": "exp_lambda.ipynb",
      "provenance": []
    },
    "kernelspec": {
      "name": "python3",
      "display_name": "Python 3"
    },
    "language_info": {
      "name": "python"
    }
  },
  "cells": [
    {
      "cell_type": "markdown",
      "source": [
        "<h1> Expressões Lambda </h1>\n",
        "Uma das características mais úteis em Python é a expressão lambda. Expressões lambda nos permitem criar funções “anônimas”. Isto significa que podemos fazer rapidamente funções ad-hoc (criadas em tempo de execução) sem a necessidade de definir uma função usando a palavra reservada **def.**\n",
        "\n",
        "Objetos de função desenvolvidos executando expressões lambda funcionam exatamente da mesma forma como aqueles criados e atribuídos pela palavra reservada def. Mas há algumas diferenças fundamentais que fazem lambda útil em funções especializadas:\n",
        "\n",
        "- O corpo do lambda é uma única expressão, não um bloco de instruções.\n",
        "- O corpo do lambda é semelhante a uma instrução de retorno do corpo def.\n",
        "\n",
        "Expressões lambda são usadas para criar funções simples. São também chamadas funções in-line ou apenas funções anônimas.\n",
        "\n",
        "Exemplo da construção de uma função lambda:\n",
        "```\n",
        "lambda x:x**2\n",
        "```\n",
        "O primeiro x é o parâmetro de entrada.\n",
        "\n",
        "O x**2 é o retorno da função.\n",
        "\n"
      ],
      "metadata": {
        "id": "P-vdUdLHp53O"
      }
    },
    {
      "cell_type": "markdown",
      "source": [
        "<h3> Diferença entre 'def' e 'lambda' para criar funções </h3>\n",
        "def → cria um objeto e atribui um nome a ele (nome da função).\n",
        "\n",
        "lambda → cria um objeto, mas o retorna como um resultado em tempo de execução."
      ],
      "metadata": {
        "id": "7dEOD14-qZB-"
      }
    },
    {
      "cell_type": "markdown",
      "source": [
        "Definindo uma função em diferentes tamanhos:"
      ],
      "metadata": {
        "id": "krouyTeTqdnd"
      }
    },
    {
      "cell_type": "code",
      "execution_count": null,
      "metadata": {
        "id": "AioeKmC1pWNv"
      },
      "outputs": [],
      "source": [
        "def potencia(num):\n",
        "  result = num**2\n",
        "  return result"
      ]
    },
    {
      "cell_type": "code",
      "source": [
        "def potencia(num):\n",
        "  return num**2"
      ],
      "metadata": {
        "id": "JWvyOrYAqsUM"
      },
      "execution_count": null,
      "outputs": []
    },
    {
      "cell_type": "code",
      "source": [
        "def potencia(num): return num**2"
      ],
      "metadata": {
        "id": "fHic68adqy_R"
      },
      "execution_count": null,
      "outputs": []
    },
    {
      "cell_type": "code",
      "source": [
        "potencia = lambda num: num**2"
      ],
      "metadata": {
        "id": "1em6BI8yq2pe"
      },
      "execution_count": null,
      "outputs": []
    },
    {
      "cell_type": "markdown",
      "source": [
        "Repare que, neste exemplo a função lambda é muito semelhante a função de uma linha de código, porém, vale lembrar que não foi necessário utilizar de uma palavra definida para a função e funções lambda só aceitam uma instrução de código e normalmente são usadas com outras funções: map(), filter(), reduce()."
      ],
      "metadata": {
        "id": "jZ9w2pCorAWH"
      }
    },
    {
      "cell_type": "markdown",
      "source": [
        "Lembre-se, operadores booleanos retornam tru ou false:"
      ],
      "metadata": {
        "id": "8Y0w4LZjrE1_"
      }
    },
    {
      "cell_type": "code",
      "source": [
        "Par = lambda x: x % 2 == 0"
      ],
      "metadata": {
        "id": "e8k-uyArrKq0"
      },
      "execution_count": null,
      "outputs": []
    },
    {
      "cell_type": "code",
      "source": [
        "Par(3)"
      ],
      "metadata": {
        "id": "jL2v5vTerTAL"
      },
      "execution_count": null,
      "outputs": []
    },
    {
      "cell_type": "code",
      "source": [
        "Par(4)"
      ],
      "metadata": {
        "id": "uA9IQ98LrVBQ"
      },
      "execution_count": null,
      "outputs": []
    },
    {
      "cell_type": "markdown",
      "source": [
        "Lambda com mais de um parâmetro:"
      ],
      "metadata": {
        "id": "g2ie-3jCrafz"
      }
    },
    {
      "cell_type": "code",
      "source": [
        "addNum = lambda x, y: x + y\n",
        "\n",
        "addNum(2, 3)"
      ],
      "metadata": {
        "id": "T6ZkHv1ireN_"
      },
      "execution_count": null,
      "outputs": []
    }
  ]
}