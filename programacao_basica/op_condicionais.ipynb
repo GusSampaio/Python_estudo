{
  "nbformat": 4,
  "nbformat_minor": 0,
  "metadata": {
    "colab": {
      "name": "op_condicionais.ipynb",
      "provenance": []
    },
    "kernelspec": {
      "name": "python3",
      "display_name": "Python 3"
    },
    "language_info": {
      "name": "python"
    }
  },
  "cells": [
    {
      "cell_type": "markdown",
      "source": [
        "<h1> Operações de comparação </h1>\n",
        "Antes de saber sobre as operações condicionais.\n",
        "Elas nos ajudam a enteder quando situações são verdadeiras (True) ou falsas (False).\n",
        "\n",
        "As operações existentes são:\n",
        "\n",
        "\n",
        "*   Menor: <\n",
        "*   Menor ou igual: <=\n",
        "*   Igual: ==\n",
        "*   Diferente: !=\n",
        "*   Maior: >\n",
        "*   Maior ou igual: >=\n",
        "\n",
        "Note seus exemplos de uso:"
      ],
      "metadata": {
        "id": "XmARzY3y2m3k"
      }
    },
    {
      "cell_type": "code",
      "source": [
        "4 > 3"
      ],
      "metadata": {
        "id": "WIFQnAhg3blP"
      },
      "execution_count": null,
      "outputs": []
    },
    {
      "cell_type": "code",
      "source": [
        "4 < 3"
      ],
      "metadata": {
        "id": "oEZsJ0fv3e90"
      },
      "execution_count": null,
      "outputs": []
    },
    {
      "cell_type": "code",
      "source": [
        "'abcd' == 'abcd'"
      ],
      "metadata": {
        "id": "LqvdCv823gH6"
      },
      "execution_count": null,
      "outputs": []
    },
    {
      "cell_type": "code",
      "source": [
        "'abcd' != 'abcd'"
      ],
      "metadata": {
        "id": "tLFcstO93liq"
      },
      "execution_count": null,
      "outputs": []
    },
    {
      "cell_type": "markdown",
      "source": [
        "<h1> Operações Condicionais - If, elif e else </h1>\n",
        "\n",
        "<h2> If </h2>\n",
        "O condicional if nos permite dizer ao computador para executar ações com base em um determinado conjunto de resultados.\n",
        "\n",
        "Estrutura exemplo:\n",
        "\n",
        "```\n",
        "if (expressao1):\n",
        "\tprint(\"comando executado caso a expressão 1 seja verdadeira\")\n",
        "else:\n",
        "\tprint(\"comando executado caso a expressão 1 seja falsa\")\t\n",
        "```\n",
        "\n",
        "<h2> elif </h2>\n",
        "O elif substitui a necessidade de criar várias estruturas de if/else aninhadas.\n",
        "\n",
        "```\n",
        "if (expressao1):\n",
        "\tprint(\"comando executado caso a expressão 1 seja verdadeira\")\n",
        "elif(expressao2):\n",
        "\tprint(\"comando executado caso a expressão 2 seja verdadeira\")\n",
        "else:\n",
        "\tprint(\"comando executado caso a expressão 1 e a expresão 2 sejam falsas\")\n",
        "```\n",
        "\n",
        "É importante ter uma boa compreensão de como funciona o recuo em Python (indentação) para manter a estrutura em ordem no seu código. Observe o erro abaixo."
      ],
      "metadata": {
        "id": "lCb9mmjy3_EW"
      }
    },
    {
      "cell_type": "code",
      "source": [
        "if 4 > 3:\n",
        "print('Não funciona')"
      ],
      "metadata": {
        "id": "GhCykFNn4LQO"
      },
      "execution_count": null,
      "outputs": []
    },
    {
      "cell_type": "markdown",
      "source": [
        "Exemplos de condicionais aninhados"
      ],
      "metadata": {
        "id": "EfoGrjzos62t"
      }
    },
    {
      "cell_type": "code",
      "source": [
        "idade = 18\n",
        "if idade > 17: # idade é maior (>) que 17?\n",
        "  print(\"Você pode dirigir!\")"
      ],
      "metadata": {
        "id": "jJoBWX7otE7H"
      },
      "execution_count": null,
      "outputs": []
    },
    {
      "cell_type": "code",
      "source": [
        "nome = input('Qual o seu nome? ')\n",
        "idade = int(input('Quantos anos você possui? '))\n",
        "\n",
        "if idade > 13:\n",
        "  print('Ok {}, você está autorizado a entrar!'.format(nome))\n",
        "else:\n",
        "  print('Desculpe {}, você não está autorizado a dirigir'.format(nome))"
      ],
      "metadata": {
        "id": "B9OU79mTtO0_"
      },
      "execution_count": null,
      "outputs": []
    },
    {
      "cell_type": "markdown",
      "source": [
        "Perceba que nas respostas possuímos estes caracteres '{}'. Note também que após a string possuímos também '.format()'. Isto significa que o que queremos que vá no lugar de {} é a variável que é parâmetro da função format()."
      ],
      "metadata": {
        "id": "OIyX1v5muGsZ"
      }
    },
    {
      "cell_type": "code",
      "source": [
        "nome = input('Qual o seu nome? ')\n",
        "idade = int(input('Quantos anos você possui? '))\n",
        "carta_de_motorista = input(\"Você possui carta de motorista? Responda com 's' ou 'n'\")\n",
        "\n",
        "if idade >= 18 and carta_de_motorista == 's':\n",
        "  print('Ok {}, você pode dirigir.'.format(nome))"
      ],
      "metadata": {
        "id": "in1x-MrzuzI2"
      },
      "execution_count": null,
      "outputs": []
    },
    {
      "cell_type": "markdown",
      "source": [
        "A função input usa o ‘standard input’ (entrada padrão - teclado) e recebe uma string.\n",
        "Note que, como a função recebe uma string e por ventura querermos comparar o dado com um número (int/float/...) deve-se converter ou dado recebido para o tipo de número necessário ou converter o número comparado para string.\n",
        "\n",
        "É importante também observar a presença da palavra 'and' na condicional. And (do inglês, 'e') é usado em Python quando queremos verificar que uma ou mais condições são verdadeiras. Neste caso vemos que para realizar a impressão da resposta 'idade' deve ser maior ou igual a 18 anos e a variável carta_de_motorista deve ser igual a 's'.\n",
        "\n",
        "Ao invés da função format() você também poderia usar *placeholders*. Observe:"
      ],
      "metadata": {
        "id": "qcZah6invaLV"
      }
    },
    {
      "cell_type": "code",
      "source": [
        "disciplina = input('Digite o nome da disciplina: ' )\n",
        "nota_final = int(input('Digite a nota final (entre 0 e 100): '))\n",
        "\n",
        "if nota_final >= 80:\n",
        "  print(\"Parabéns, você foi aprovado em %s com média final %r! :)\" %(disciplina, nota_final))\n",
        "else:\n",
        "  print('Lamento, acho que você precisa estudar mais... :(')"
      ],
      "metadata": {
        "id": "B1KUQfm0z3Oa"
      },
      "execution_count": null,
      "outputs": []
    },
    {
      "cell_type": "markdown",
      "source": [
        "`%s e %r` são exemplos de placeholders (marcadores de posição). Eles são usados para reservar dados. Para saber quais são os vários tipos de conversores em Python, acesse: https://desenvolvimentoaberto.org/2014/02/03/formatar-converter-e-usar-mascaras-em-python-linux/"
      ],
      "metadata": {
        "id": "YPTm-MbL1K9z"
      }
    }
  ]
}