{
  "nbformat": 4,
  "nbformat_minor": 0,
  "metadata": {
    "colab": {
      "name": "loops.ipynb",
      "provenance": []
    },
    "kernelspec": {
      "name": "python3",
      "display_name": "Python 3"
    },
    "language_info": {
      "name": "python"
    }
  },
  "cells": [
    {
      "cell_type": "markdown",
      "source": [
        "<h1> Agora vamos falar um pouco sobre Loops! </h1>\n",
        "<h2> Começando pelo While </h2>\n",
        "O loop while em Python é uma das formas mais comuns para executar iteração.\n",
        "\n",
        "A instrução while será executada repetidamente, seja uma única instrução ou grupo de instruções, desde que uma condição seja verdadeira.\n",
        "\n",
        "Formato geral do while:\n",
        "```\n",
        "while(expressao1)\n",
        "\tprint(\"Comando executado enquanto expressão1 seja verdadeira\")\n",
        "```\n",
        "\n",
        "Printando valores de uma lista:"
      ],
      "metadata": {
        "id": "Ffy5NJ0v4tQ0"
      }
    },
    {
      "cell_type": "code",
      "source": [
        "lista = [1, 2, 3, 4, 5]\n",
        "i = 0\n",
        "while lista[i] != 5:\n",
        "\tprint(lista[i])\n",
        "\ti = i + 1"
      ],
      "metadata": {
        "id": "TiuesseI5FBL"
      },
      "execution_count": null,
      "outputs": []
    },
    {
      "cell_type": "markdown",
      "source": [
        "Note a importância de se iterar a variável contadora pois se aquela última linha não existisse o programa rodaria infinitamente (provavelmente travaria o computador, a depender do hardware)\n",
        "\n",
        "Então, sempre que usado o loop while deve-se atentar ao modo que ele será travado."
      ],
      "metadata": {
        "id": "tJvR9N0_5IxM"
      }
    },
    {
      "cell_type": "markdown",
      "source": [
        "Também é possível usar a cláusula else para encerrar o loop while:"
      ],
      "metadata": {
        "id": "dYhj_QfM5Lfc"
      }
    },
    {
      "cell_type": "code",
      "source": [
        "x = 0\n",
        "\n",
        "while x < 10:\n",
        "\tprint(\"O valor de x é: \", x)\n",
        "\tprint(\"X ainda é menor que 10\")\n",
        "\tx += 1\n",
        "else:\n",
        "  print(\"Loop concluído\")"
      ],
      "metadata": {
        "id": "loac82a05N0e"
      },
      "execution_count": null,
      "outputs": []
    },
    {
      "cell_type": "markdown",
      "source": [
        "Aqui, quando x == 10 o else é acionado."
      ],
      "metadata": {
        "id": "Jc2u8lOG5VfR"
      }
    },
    {
      "cell_type": "markdown",
      "source": [
        "Nós temos ainda, algumas alternativas para interromper o loop while como as palavras pass, break e continue."
      ],
      "metadata": {
        "id": "29Ea9-265YpI"
      }
    },
    {
      "cell_type": "code",
      "source": [
        "for verificador in \"Python\":\n",
        "\tif verificador == \"h\":\n",
        "\t\tcontinue        # Volta para o começo do for e itera a variável (passa pra próx. letra)\n",
        "\tprint(verificador)"
      ],
      "metadata": {
        "id": "_EVqh8TO5eKk"
      },
      "execution_count": null,
      "outputs": []
    },
    {
      "cell_type": "markdown",
      "source": [
        "Uso do break e do continue:"
      ],
      "metadata": {
        "id": "R8ZlVFhT5jbn"
      }
    },
    {
      "cell_type": "code",
      "source": [
        "numero = 10\n",
        "entrada = None #Tipo de dado 'nao definido'\n",
        "while True:\n",
        "\tentrada = int(input(\"Digite um valor:\"))\n",
        "\tnumero = numero * int(entrada)\n",
        "\tif entrada > 10:\n",
        "\t\tprint(\"Faça de novo\")\n",
        "\t\tcontinue # volta para o inicio do laço\n",
        "\telif entrada == 0:\n",
        "\t\tprint(\"Saindo\")\n",
        "\t\tbreak  # sai do laço de repetição"
      ],
      "metadata": {
        "id": "OL2LWbqk5mR-"
      },
      "execution_count": null,
      "outputs": []
    },
    {
      "cell_type": "markdown",
      "source": [
        "O None é uma palavra-chave especial em Python. Isso não significa que o valor é zero, mas o valor é NULL ou não disponível. None é um objeto especial. Seu tipo é denominado NoneType"
      ],
      "metadata": {
        "id": "pQCJZIWJ6Tw7"
      }
    },
    {
      "cell_type": "markdown",
      "source": [
        "<h2> Loop for </h2>\n",
        "O loop for é uma das expressões mais comuns em linguagens de programação.\n",
        "\n",
        "Ele nos permite executar um comando, ou um número de comando num número determinado de vezes (Exp: aumenta essa variável de 1 em um durante 10 vezes)\n",
        "\n",
        "Sua estrutura geral é determinada desta maneira:\n",
        "```\n",
        "for item in série-de-items:\n",
        "\texecutar comandos\n",
        "```\n",
        "\n",
        "Para cada item em uma série de itens execute tais comandos\n",
        "\n",
        "Normalmente, o laço for é utilizado quando já se sabe quantas iterações serão realizadas.\n",
        "\n",
        "Podemos utilizar o loop for em objetos sequenciais como:\n",
        "\n",
        "- strings\n",
        "- listas\n",
        "- tuplas\n",
        "- elementos de dicionários\n",
        "- arquivos"
      ],
      "metadata": {
        "id": "7N2ieHCj6Vm_"
      }
    },
    {
      "cell_type": "markdown",
      "source": [
        "Usando uma lista junto a operações condicionais:"
      ],
      "metadata": {
        "id": "nkYXFdpo6krN"
      }
    },
    {
      "cell_type": "code",
      "source": [
        "friends_list = [\"Joseph\", \"Jesus\", \"Judas\"]\n",
        "for friend in friends_list:\n",
        "\tif friend == \"Judas\": \n",
        "\t\tprint(\"You will betrayal me \", friend)\n",
        "\telse:\n",
        "\t\tprint(\"Hello my friend \", friend)"
      ],
      "metadata": {
        "id": "ildBE_Q46ozM"
      },
      "execution_count": null,
      "outputs": []
    },
    {
      "cell_type": "markdown",
      "source": [
        "Imprimindo os números pares da lista de números:"
      ],
      "metadata": {
        "id": "1QeSODE_60AW"
      }
    },
    {
      "cell_type": "code",
      "source": [
        "lista = [1,2,3,4,5,6,7,8,9,10]\n",
        "for num in lista:\n",
        "\tif num % 2 == 0: # Se o resto é 0 o número é divisível por 2\n",
        "\t\tprint(num)"
      ],
      "metadata": {
        "id": "Mu1ngx9M61ML"
      },
      "execution_count": null,
      "outputs": []
    },
    {
      "cell_type": "markdown",
      "source": [
        "Considerando que strings também são sequências podemos aplicar o for a elas:"
      ],
      "metadata": {
        "id": "k9qJ_Q5-69mP"
      }
    },
    {
      "cell_type": "code",
      "source": [
        "for caracter in \"Python\":\n",
        "\tprint(caracter)"
      ],
      "metadata": {
        "id": "VcqR9oOF6-KX"
      },
      "execution_count": null,
      "outputs": []
    },
    {
      "cell_type": "markdown",
      "source": [
        "Contando sub-listas:"
      ],
      "metadata": {
        "id": "vyr2houD7YNs"
      }
    },
    {
      "cell_type": "code",
      "source": [
        "lst = [[1,2,3],[4,5,6],[7,8,9]]\n",
        "primeira_linha = lst [0]\n",
        "contador = 0\n",
        "\n",
        "for column in primeira_linha:\n",
        "\tcontador = contador + 1\n",
        "\n",
        "print(contador)"
      ],
      "metadata": {
        "id": "LUDCMwhT7YpD"
      },
      "execution_count": null,
      "outputs": []
    },
    {
      "cell_type": "markdown",
      "source": [
        "<h2> Range </h2>\n",
        "Esta função não é necessariamente um loop, mas ela cria (como o próprio nome da função sugere) um criar um range de valores, em outras palavras, uma lista de números em um intervalo específico.\n",
        "\n",
        "A função range() tem o seguinte formato:\n",
        "```\n",
        "range([start], [stop], [step])\n",
        "```\n",
        "[start]  = número que inicia a sequência \n",
        "\n",
        "[stop]  = número que encerra a sequência (não é incluído na sequência)\n",
        "\n",
        "[step]  = diferença entre cada número da sequência"
      ],
      "metadata": {
        "id": "qPpJFtBa7gej"
      }
    },
    {
      "cell_type": "markdown",
      "source": [
        "Imprimindo números pares entre 50 e 70 com step:"
      ],
      "metadata": {
        "id": "9LIpyZsp7tRU"
      }
    },
    {
      "cell_type": "code",
      "source": [
        "for i in range (50, 70, 2):\n",
        "  print(i)"
      ],
      "metadata": {
        "id": "VVjz8X647sp3"
      },
      "execution_count": null,
      "outputs": []
    },
    {
      "cell_type": "markdown",
      "source": [
        "Note que o último nunca vai aparecer, pois é exclusivo."
      ],
      "metadata": {
        "id": "DidhqVOT700E"
      }
    },
    {
      "cell_type": "markdown",
      "source": [
        "Podemos também não usar o step."
      ],
      "metadata": {
        "id": "6bLXmSP-745o"
      }
    },
    {
      "cell_type": "code",
      "source": [
        "for i in range(3, 6):\n",
        "  print(i)"
      ],
      "metadata": {
        "id": "sttbrfOY75t1"
      },
      "execution_count": null,
      "outputs": []
    },
    {
      "cell_type": "markdown",
      "source": [
        "Por padrão, quando não há step o incremento é de 1 em 1"
      ],
      "metadata": {
        "id": "VA4efocp8BSn"
      }
    },
    {
      "cell_type": "markdown",
      "source": [
        "O step também pode ser negativo"
      ],
      "metadata": {
        "id": "K9ZPrVwr8LkW"
      }
    },
    {
      "cell_type": "code",
      "source": [
        "for i in range (0, -20, -2):\n",
        "  print(i)"
      ],
      "metadata": {
        "id": "tQhP7UQl8Mj4"
      },
      "execution_count": null,
      "outputs": []
    },
    {
      "cell_type": "markdown",
      "source": [
        "Usando listas"
      ],
      "metadata": {
        "id": "SBnDCjPQ8UtO"
      }
    },
    {
      "cell_type": "code",
      "source": [
        "lista = ['Morango', 'Banana', 'Abacaxi', 'Uva']\n",
        "tamanho_lista = len(lista)\n",
        "\n",
        "for i in range(0, tamanho_lista):\n",
        "  print(lista[i])"
      ],
      "metadata": {
        "id": "aUhpjyj_8Vgs"
      },
      "execution_count": null,
      "outputs": []
    }
  ]
}